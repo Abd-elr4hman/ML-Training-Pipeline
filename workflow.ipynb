{
 "cells": [
  {
   "cell_type": "code",
   "execution_count": 1,
   "metadata": {},
   "outputs": [
    {
     "name": "stdout",
     "output_type": "stream",
     "text": [
      "sagemaker.config INFO - Not applying SDK defaults from location: C:\\ProgramData\\sagemaker\\sagemaker\\config.yaml\n",
      "sagemaker.config INFO - Not applying SDK defaults from location: C:\\Users\\Abdelrahman\\AppData\\Local\\sagemaker\\sagemaker\\config.yaml\n"
     ]
    }
   ],
   "source": [
    "import logging\n",
    "\n",
    "import sagemaker\n",
    "from sagemaker.tensorflow import TensorFlow\n",
    "\n",
    "import stepfunctions\n",
    "from stepfunctions.workflow import Workflow\n",
    "from stepfunctions import steps\n",
    "from stepfunctions.inputs import ExecutionInput\n",
    "from stepfunctions.workflow import Workflow\n",
    "\n",
    "from sagemaker.processing import Processor, ProcessingInput, ProcessingOutput"
   ]
  },
  {
   "cell_type": "code",
   "execution_count": 2,
   "metadata": {},
   "outputs": [],
   "source": [
    "stepfunctions.set_stream_logger(level=logging.INFO)"
   ]
  },
  {
   "cell_type": "code",
   "execution_count": 3,
   "metadata": {},
   "outputs": [
    {
     "name": "stdout",
     "output_type": "stream",
     "text": [
      "sagemaker.config INFO - Not applying SDK defaults from location: C:\\ProgramData\\sagemaker\\sagemaker\\config.yaml\n",
      "sagemaker.config INFO - Not applying SDK defaults from location: C:\\Users\\Abdelrahman\\AppData\\Local\\sagemaker\\sagemaker\\config.yaml\n"
     ]
    }
   ],
   "source": [
    "sagemaker_session = sagemaker.Session()\n",
    "region = sagemaker_session.boto_session.region_name"
   ]
  },
  {
   "cell_type": "markdown",
   "metadata": {},
   "source": [
    "# Get processing output location"
   ]
  },
  {
   "cell_type": "code",
   "execution_count": 4,
   "metadata": {},
   "outputs": [],
   "source": [
    "PROCESSING_IMAGE_URI = \"401082536487.dkr.ecr.eu-central-1.amazonaws.com/mnist-processingjob:889d1e4cd1e9f06a67a9ba92c0cb4f6112202ba4\"\n",
    "PROCESSING_INPUT = \"s3://training-data-sagemaker-tensorflow-mnist/processing_input/\"\n",
    "PROCESSING_OUTPUT = \"s3://training-data-sagemaker-tensorflow-mnist/processing_output\"\n",
    "TRAINING_OUTPUT = \"s3://training-data-sagemaker-tensorflow-mnist/training_output\"\n",
    "\n",
    "\n",
    "PROCESSING_INSTANCE_TYPE = \"ml.t3.large\"\n",
    "TRAINING_INSTANCE_TYPE = \"ml.m5.large\"\n",
    "\n",
    "EXECUTION_ROLE = \"arn:aws:iam::401082536487:role/AWS-SAGEMAKER-EXECUTION\"\n",
    "WORKFLOW_EXECUTION_ROLE = \"arn:aws:iam::401082536487:role/AmazonSageMaker-StepFunctionsWorkflowExecutionRole\""
   ]
  },
  {
   "cell_type": "markdown",
   "metadata": {},
   "source": [
    "# Define execution input and  workflow steps"
   ]
  },
  {
   "cell_type": "code",
   "execution_count": 5,
   "metadata": {},
   "outputs": [],
   "source": [
    "execution_input = ExecutionInput(\n",
    "    schema={\n",
    "        \"TrainingJobName\": str,\n",
    "        \"PreprocessingJobName\": str,\n",
    "    }\n",
    ")"
   ]
  },
  {
   "cell_type": "code",
   "execution_count": 6,
   "metadata": {},
   "outputs": [],
   "source": [
    "# create processing step\n",
    "def create_process_step() -> stepfunctions.steps.ProcessingStep:\n",
    "    \"\"\"\n",
    "    create process step\n",
    "    \"\"\"\n",
    "    processor = Processor(image_uri=PROCESSING_IMAGE_URI,\n",
    "                     role=EXECUTION_ROLE,\n",
    "                     instance_count=1,\n",
    "                     instance_type=PROCESSING_INSTANCE_TYPE)\n",
    "    \n",
    "    step_process = stepfunctions.steps.ProcessingStep(\n",
    "        state_id=\"Preprocessing Data\",\n",
    "        processor=processor,\n",
    "        job_name=execution_input[\"PreprocessingJobName\"],\n",
    "        inputs=[ProcessingInput(input_name= \"processing_input\",source=PROCESSING_INPUT, destination=\"/opt/ml/processing/input\")],\n",
    "        outputs=[\n",
    "                ProcessingOutput(output_name=\"processing_output\", source=\"/opt/ml/processing/output\", destination=PROCESSING_OUTPUT),\n",
    "            ],\n",
    "    )\n",
    "    return step_process"
   ]
  },
  {
   "cell_type": "code",
   "execution_count": 7,
   "metadata": {},
   "outputs": [],
   "source": [
    "# create a training step\n",
    "def create_training_step():\n",
    "    \"\"\"\n",
    "    create a training step\n",
    "    \"\"\"\n",
    "    mnist_estimator = TensorFlow(\n",
    "        entry_point=\"mnist_training.py\",\n",
    "        role=EXECUTION_ROLE,\n",
    "        instance_count=1,\n",
    "        instance_type=TRAINING_INSTANCE_TYPE,\n",
    "        framework_version=\"2.7\",\n",
    "        py_version=\"py38\",\n",
    "        source_dir= \"src\",\n",
    "        output_path= TRAINING_OUTPUT\n",
    "\n",
    "    )\n",
    "    \n",
    "    training_step = steps.TrainingStep(\n",
    "        \"Model Training\",\n",
    "        estimator=mnist_estimator,\n",
    "        data={\n",
    "            \"train\":PROCESSING_OUTPUT\n",
    "        },\n",
    "        job_name=execution_input[\"TrainingJobName\"],\n",
    "        wait_for_completion=True,\n",
    "    )\n",
    "    return training_step"
   ]
  },
  {
   "cell_type": "code",
   "execution_count": 8,
   "metadata": {},
   "outputs": [],
   "source": [
    "def create_workflow():\n",
    "    \"\"\"\n",
    "    create a state machine for ml pipeline\n",
    "    \"\"\"\n",
    "    \n",
    "    # processing step\n",
    "    processing_step = create_process_step()\n",
    "    \n",
    "    # training step\n",
    "    training_step = create_training_step()\n",
    "    \n",
    "    # workflow\n",
    "    workflow_definition = steps.Chain(\n",
    "        [processing_step, training_step]\n",
    "    )\n",
    "    \n",
    "    workflow = Workflow(\n",
    "        name=\"TrainingWorkflow\",\n",
    "        definition=workflow_definition,\n",
    "        role=WORKFLOW_EXECUTION_ROLE,\n",
    "        execution_input=execution_input,\n",
    "    )\n",
    "    \n",
    "    return workflow"
   ]
  },
  {
   "cell_type": "code",
   "execution_count": 9,
   "metadata": {},
   "outputs": [
    {
     "name": "stdout",
     "output_type": "stream",
     "text": [
      "sagemaker.config INFO - Not applying SDK defaults from location: C:\\ProgramData\\sagemaker\\sagemaker\\config.yaml\n",
      "sagemaker.config INFO - Not applying SDK defaults from location: C:\\Users\\Abdelrahman\\AppData\\Local\\sagemaker\\sagemaker\\config.yaml\n",
      "sagemaker.config INFO - Not applying SDK defaults from location: C:\\ProgramData\\sagemaker\\sagemaker\\config.yaml\n",
      "sagemaker.config INFO - Not applying SDK defaults from location: C:\\Users\\Abdelrahman\\AppData\\Local\\sagemaker\\sagemaker\\config.yaml\n",
      "Using provided s3_resource\n"
     ]
    },
    {
     "data": {
      "text/html": [
       "\n",
       "<link rel=\"stylesheet\" type=\"text/css\" href=\"https://do0of8uwbahzz.cloudfront.net/graph.css\">\n",
       "<div id=\"graph-470\" class=\"workflowgraph\">\n",
       "    \n",
       "    <svg></svg>\n",
       "    \n",
       "</div>\n",
       "\n",
       "<script type=\"text/javascript\">\n",
       "\n",
       "require.config({\n",
       "    paths: {\n",
       "        sfn: \"https://do0of8uwbahzz.cloudfront.net/sfn\",\n",
       "    }\n",
       "});\n",
       "\n",
       "require(['sfn'], function(sfn) {\n",
       "    var element = document.getElementById('graph-470')\n",
       "\n",
       "    var options = {\n",
       "        width: parseFloat(getComputedStyle(element, null).width.replace(\"px\", \"\")),\n",
       "        height: 600,\n",
       "        layout: 'LR',\n",
       "        resizeHeight: true\n",
       "    };\n",
       "\n",
       "    var definition = {\"StartAt\": \"Preprocessing Data\", \"States\": {\"Preprocessing Data\": {\"Resource\": \"arn:aws:states:::sagemaker:createProcessingJob.sync\", \"Parameters\": {\"ProcessingJobName.$\": \"$$.Execution.Input['PreprocessingJobName']\", \"ProcessingInputs\": [{\"InputName\": \"processing_input\", \"AppManaged\": false, \"S3Input\": {\"S3Uri\": \"s3://training-data-sagemaker-tensorflow-mnist/processing_input/\", \"LocalPath\": \"/opt/ml/processing/input\", \"S3DataType\": \"S3Prefix\", \"S3InputMode\": \"File\", \"S3DataDistributionType\": \"FullyReplicated\", \"S3CompressionType\": \"None\"}}], \"ProcessingOutputConfig\": {\"Outputs\": [{\"OutputName\": \"processing_output\", \"AppManaged\": false, \"S3Output\": {\"S3Uri\": \"s3://training-data-sagemaker-tensorflow-mnist/processing_output\", \"LocalPath\": \"/opt/ml/processing/output\", \"S3UploadMode\": \"EndOfJob\"}}]}, \"AppSpecification\": {\"ImageUri\": \"401082536487.dkr.ecr.eu-central-1.amazonaws.com/mnist-processingjob:889d1e4cd1e9f06a67a9ba92c0cb4f6112202ba4\"}, \"RoleArn\": \"arn:aws:iam::401082536487:role/AWS-SAGEMAKER-EXECUTION\", \"ProcessingResources\": {\"ClusterConfig\": {\"InstanceCount\": 1, \"InstanceType\": \"ml.t3.large\", \"VolumeSizeInGB\": 30}}}, \"Type\": \"Task\", \"Next\": \"Model Training\"}, \"Model Training\": {\"Resource\": \"arn:aws:states:::sagemaker:createTrainingJob.sync\", \"Parameters\": {\"AlgorithmSpecification\": {\"TrainingImage\": \"763104351884.dkr.ecr.eu-central-1.amazonaws.com/tensorflow-training:2.7-cpu-py38\", \"TrainingInputMode\": \"File\"}, \"OutputDataConfig\": {\"S3OutputPath\": \"s3://training-data-sagemaker-tensorflow-mnist/training_output\"}, \"StoppingCondition\": {\"MaxRuntimeInSeconds\": 86400}, \"ResourceConfig\": {\"VolumeSizeInGB\": 30, \"InstanceCount\": 1, \"InstanceType\": \"ml.m5.large\"}, \"RoleArn\": \"arn:aws:iam::401082536487:role/AWS-SAGEMAKER-EXECUTION\", \"InputDataConfig\": [{\"DataSource\": {\"S3DataSource\": {\"S3DataType\": \"S3Prefix\", \"S3Uri\": \"s3://training-data-sagemaker-tensorflow-mnist/processing_output\", \"S3DataDistributionType\": \"FullyReplicated\"}}, \"ChannelName\": \"train\"}], \"HyperParameters\": {\"sagemaker_submit_directory\": \"\\\"s3://training-data-sagemaker-tensorflow-mnist/tensorflow-training-2023-09-16-00-41-56-274/source/sourcedir.tar.gz\\\"\", \"sagemaker_program\": \"\\\"mnist_training.py\\\"\", \"sagemaker_container_log_level\": \"20\", \"sagemaker_job_name\": \"\\\"tensorflow-training-2023-09-16-00-41-56-936\\\"\", \"sagemaker_region\": \"\\\"eu-central-1\\\"\", \"model_dir\": \"\\\"s3://training-data-sagemaker-tensorflow-mnist/training_output/tensorflow-training-2023-09-16-00-41-56-936/model\\\"\"}, \"TrainingJobName.$\": \"$$.Execution.Input['TrainingJobName']\", \"DebugHookConfig\": {\"S3OutputPath\": \"s3://training-data-sagemaker-tensorflow-mnist/training_output\"}}, \"Type\": \"Task\", \"End\": true}}};\n",
       "    var elementId = '#graph-470';\n",
       "\n",
       "    var graph = new sfn.StateMachineGraph(definition, elementId, options);\n",
       "    graph.render();\n",
       "});\n",
       "\n",
       "</script>\n"
      ],
      "text/plain": [
       "<IPython.core.display.HTML object>"
      ]
     },
     "execution_count": 9,
     "metadata": {},
     "output_type": "execute_result"
    }
   ],
   "source": [
    "mnist_workflow = create_workflow()\n",
    "mnist_workflow.render_graph()"
   ]
  },
  {
   "cell_type": "code",
   "execution_count": 10,
   "metadata": {},
   "outputs": [
    {
     "name": "stdout",
     "output_type": "stream",
     "text": [
      "\u001b[32m[INFO] Workflow created successfully on AWS Step Functions.\u001b[0m\n"
     ]
    },
    {
     "data": {
      "text/plain": [
       "'arn:aws:states:eu-central-1:401082536487:stateMachine:TrainingWorkflow'"
      ]
     },
     "execution_count": 10,
     "metadata": {},
     "output_type": "execute_result"
    }
   ],
   "source": [
    "mnist_workflow.create()"
   ]
  },
  {
   "cell_type": "markdown",
   "metadata": {},
   "source": [
    "# Execute workflow"
   ]
  },
  {
   "cell_type": "code",
   "execution_count": 11,
   "metadata": {},
   "outputs": [
    {
     "name": "stdout",
     "output_type": "stream",
     "text": [
      "date and time = 16-09-2023-03-42-00\n"
     ]
    }
   ],
   "source": [
    "from datetime import datetime\n",
    "\n",
    "# datetime object containing current date and time\n",
    "now = datetime.now()\n",
    "\n",
    "# dd-mm-YY-H-M-S\n",
    "dt_string = now.strftime(\"%d-%m-%Y-%H-%M-%S\")\n",
    "print(\"date and time =\", dt_string)"
   ]
  },
  {
   "cell_type": "code",
   "execution_count": 12,
   "metadata": {},
   "outputs": [
    {
     "name": "stdout",
     "output_type": "stream",
     "text": [
      "\u001b[32m[INFO] Workflow execution started successfully on AWS Step Functions.\u001b[0m\n"
     ]
    }
   ],
   "source": [
    "execution = mnist_workflow.execute(\n",
    "    inputs={\n",
    "        \"TrainingJobName\": f\"mnist-tensorflow-training-{dt_string}\",  # Each Sagemaker Job requires a unique name,\n",
    "        \"PreprocessingJobName\": f\"mnist-tensorflow-processing-{dt_string}\",  # Each Sagemaker Job requires a unique name,\n",
    "    }\n",
    ")"
   ]
  },
  {
   "cell_type": "code",
   "execution_count": 19,
   "metadata": {},
   "outputs": [
    {
     "data": {
      "text/html": [
       "\n",
       "<link rel=\"stylesheet\" type=\"text/css\" href=\"https://do0of8uwbahzz.cloudfront.net/graph.css\">\n",
       "<div id=\"graph-195\" class=\"workflowgraph\">\n",
       "    \n",
       "    <style>\n",
       "        .graph-legend ul {\n",
       "            list-style-type: none;\n",
       "            padding: 10px;\n",
       "            padding-left: 0;\n",
       "            margin: 0;\n",
       "            position: absolute;\n",
       "            top: 0;\n",
       "            background: transparent;\n",
       "        }\n",
       "\n",
       "        .graph-legend li {\n",
       "            margin-left: 10px;\n",
       "            display: inline-block;\n",
       "        }\n",
       "\n",
       "        .graph-legend li > div {\n",
       "            width: 10px;\n",
       "            height: 10px;\n",
       "            display: inline-block;\n",
       "        }\n",
       "\n",
       "        .graph-legend .success { background-color: #2BD62E }\n",
       "        .graph-legend .failed { background-color: #DE322F }\n",
       "        .graph-legend .cancelled { background-color: #DDDDDD }\n",
       "        .graph-legend .in-progress { background-color: #53C9ED }\n",
       "        .graph-legend .caught-error { background-color: #FFA500 }\n",
       "    </style>\n",
       "    <div class=\"graph-legend\">\n",
       "        <ul>\n",
       "            <li>\n",
       "                <div class=\"success\"></div>\n",
       "                <span>Success</span>\n",
       "            </li>\n",
       "            <li>\n",
       "                <div class=\"failed\"></div>\n",
       "                <span>Failed</span>\n",
       "            </li>\n",
       "            <li>\n",
       "                <div class=\"cancelled\"></div>\n",
       "                <span>Cancelled</span>\n",
       "            </li>\n",
       "            <li>\n",
       "                <div class=\"in-progress\"></div>\n",
       "                <span>In Progress</span>\n",
       "            </li>\n",
       "            <li>\n",
       "                <div class=\"caught-error\"></div>\n",
       "                <span>Caught Error</span>\n",
       "            </li>\n",
       "        </ul>\n",
       "    </div>\n",
       "\n",
       "    <svg></svg>\n",
       "    <a href=\"https://console.aws.amazon.com/states/home?region=eu-central-1#/executions/details/arn:aws:states:eu-central-1:401082536487:execution:TrainingWorkflow:13e08cde-2400-4585-97d7-d8ca2c5396fb\" target=\"_blank\"> Inspect in AWS Step Functions </a>\n",
       "</div>\n",
       "\n",
       "<script type=\"text/javascript\">\n",
       "\n",
       "require.config({\n",
       "    paths: {\n",
       "        sfn: \"https://do0of8uwbahzz.cloudfront.net/sfn\",\n",
       "    }\n",
       "});\n",
       "\n",
       "require(['sfn'], function(sfn) {\n",
       "    var element = document.getElementById('graph-195')\n",
       "\n",
       "    var options = {\n",
       "        width: parseFloat(getComputedStyle(element, null).width.replace(\"px\", \"\")),\n",
       "        height: 1000,\n",
       "        layout: 'LR',\n",
       "        resizeHeight: true\n",
       "    };\n",
       "\n",
       "    var definition = {\"StartAt\": \"Preprocessing Data\", \"States\": {\"Preprocessing Data\": {\"Resource\": \"arn:aws:states:::sagemaker:createProcessingJob.sync\", \"Parameters\": {\"ProcessingJobName.$\": \"$$.Execution.Input['PreprocessingJobName']\", \"ProcessingInputs\": [{\"InputName\": \"processing_input\", \"AppManaged\": false, \"S3Input\": {\"S3Uri\": \"s3://training-data-sagemaker-tensorflow-mnist/processing_input/\", \"LocalPath\": \"/opt/ml/processing/input\", \"S3DataType\": \"S3Prefix\", \"S3InputMode\": \"File\", \"S3DataDistributionType\": \"FullyReplicated\", \"S3CompressionType\": \"None\"}}], \"ProcessingOutputConfig\": {\"Outputs\": [{\"OutputName\": \"processing_output\", \"AppManaged\": false, \"S3Output\": {\"S3Uri\": \"s3://training-data-sagemaker-tensorflow-mnist/processing_output\", \"LocalPath\": \"/opt/ml/processing/output\", \"S3UploadMode\": \"EndOfJob\"}}]}, \"AppSpecification\": {\"ImageUri\": \"401082536487.dkr.ecr.eu-central-1.amazonaws.com/mnist-processingjob:889d1e4cd1e9f06a67a9ba92c0cb4f6112202ba4\"}, \"RoleArn\": \"arn:aws:iam::401082536487:role/AWS-SAGEMAKER-EXECUTION\", \"ProcessingResources\": {\"ClusterConfig\": {\"InstanceCount\": 1, \"InstanceType\": \"ml.t3.large\", \"VolumeSizeInGB\": 30}}}, \"Type\": \"Task\", \"Next\": \"Model Training\"}, \"Model Training\": {\"Resource\": \"arn:aws:states:::sagemaker:createTrainingJob.sync\", \"Parameters\": {\"AlgorithmSpecification\": {\"TrainingImage\": \"763104351884.dkr.ecr.eu-central-1.amazonaws.com/tensorflow-training:2.7-cpu-py38\", \"TrainingInputMode\": \"File\"}, \"OutputDataConfig\": {\"S3OutputPath\": \"s3://training-data-sagemaker-tensorflow-mnist/training_output\"}, \"StoppingCondition\": {\"MaxRuntimeInSeconds\": 86400}, \"ResourceConfig\": {\"VolumeSizeInGB\": 30, \"InstanceCount\": 1, \"InstanceType\": \"ml.m5.large\"}, \"RoleArn\": \"arn:aws:iam::401082536487:role/AWS-SAGEMAKER-EXECUTION\", \"InputDataConfig\": [{\"DataSource\": {\"S3DataSource\": {\"S3DataType\": \"S3Prefix\", \"S3Uri\": \"s3://training-data-sagemaker-tensorflow-mnist/processing_output\", \"S3DataDistributionType\": \"FullyReplicated\"}}, \"ChannelName\": \"train\"}], \"HyperParameters\": {\"sagemaker_submit_directory\": \"\\\"s3://training-data-sagemaker-tensorflow-mnist/tensorflow-training-2023-09-16-00-41-56-274/source/sourcedir.tar.gz\\\"\", \"sagemaker_program\": \"\\\"mnist_training.py\\\"\", \"sagemaker_container_log_level\": \"20\", \"sagemaker_job_name\": \"\\\"tensorflow-training-2023-09-16-00-41-56-936\\\"\", \"sagemaker_region\": \"\\\"eu-central-1\\\"\", \"model_dir\": \"\\\"s3://training-data-sagemaker-tensorflow-mnist/training_output/tensorflow-training-2023-09-16-00-41-56-936/model\\\"\"}, \"TrainingJobName.$\": \"$$.Execution.Input['TrainingJobName']\", \"DebugHookConfig\": {\"S3OutputPath\": \"s3://training-data-sagemaker-tensorflow-mnist/training_output\"}}, \"Type\": \"Task\", \"End\": true}}};\n",
       "    var elementId = '#graph-195';\n",
       "    var events = { 'events': [{\"timestamp\": 1694824920.926, \"type\": \"ExecutionStarted\", \"id\": 1, \"previousEventId\": 0, \"executionStartedEventDetails\": {\"input\": \"{\\n    \\\"TrainingJobName\\\": \\\"mnist-tensorflow-training-16-09-2023-03-42-00\\\",\\n    \\\"PreprocessingJobName\\\": \\\"mnist-tensorflow-processing-16-09-2023-03-42-00\\\"\\n}\", \"inputDetails\": {\"truncated\": false}, \"roleArn\": \"arn:aws:iam::401082536487:role/AmazonSageMaker-StepFunctionsWorkflowExecutionRole\"}}, {\"timestamp\": 1694824920.954, \"type\": \"TaskStateEntered\", \"id\": 2, \"previousEventId\": 0, \"stateEnteredEventDetails\": {\"name\": \"Preprocessing Data\", \"input\": \"{\\n    \\\"TrainingJobName\\\": \\\"mnist-tensorflow-training-16-09-2023-03-42-00\\\",\\n    \\\"PreprocessingJobName\\\": \\\"mnist-tensorflow-processing-16-09-2023-03-42-00\\\"\\n}\", \"inputDetails\": {\"truncated\": false}}}, {\"timestamp\": 1694824920.954, \"type\": \"TaskScheduled\", \"id\": 3, \"previousEventId\": 2, \"taskScheduledEventDetails\": {\"resourceType\": \"sagemaker\", \"resource\": \"createProcessingJob.sync\", \"region\": \"eu-central-1\", \"parameters\": \"{\\\"ProcessingInputs\\\":[{\\\"InputName\\\":\\\"processing_input\\\",\\\"AppManaged\\\":false,\\\"S3Input\\\":{\\\"S3Uri\\\":\\\"s3://training-data-sagemaker-tensorflow-mnist/processing_input/\\\",\\\"LocalPath\\\":\\\"/opt/ml/processing/input\\\",\\\"S3DataType\\\":\\\"S3Prefix\\\",\\\"S3InputMode\\\":\\\"File\\\",\\\"S3DataDistributionType\\\":\\\"FullyReplicated\\\",\\\"S3CompressionType\\\":\\\"None\\\"}}],\\\"ProcessingOutputConfig\\\":{\\\"Outputs\\\":[{\\\"OutputName\\\":\\\"processing_output\\\",\\\"AppManaged\\\":false,\\\"S3Output\\\":{\\\"S3Uri\\\":\\\"s3://training-data-sagemaker-tensorflow-mnist/processing_output\\\",\\\"LocalPath\\\":\\\"/opt/ml/processing/output\\\",\\\"S3UploadMode\\\":\\\"EndOfJob\\\"}}]},\\\"AppSpecification\\\":{\\\"ImageUri\\\":\\\"401082536487.dkr.ecr.eu-central-1.amazonaws.com/mnist-processingjob:889d1e4cd1e9f06a67a9ba92c0cb4f6112202ba4\\\"},\\\"RoleArn\\\":\\\"arn:aws:iam::401082536487:role/AWS-SAGEMAKER-EXECUTION\\\",\\\"ProcessingResources\\\":{\\\"ClusterConfig\\\":{\\\"InstanceCount\\\":1,\\\"InstanceType\\\":\\\"ml.t3.large\\\",\\\"VolumeSizeInGB\\\":30}},\\\"ProcessingJobName\\\":\\\"mnist-tensorflow-processing-16-09-2023-03-42-00\\\",\\\"Tags\\\":[{\\\"Key\\\":\\\"MANAGED_BY_AWS\\\",\\\"Value\\\":\\\"STARTED_BY_STEP_FUNCTIONS\\\"}]}\"}}, {\"timestamp\": 1694824921.039, \"type\": \"TaskStarted\", \"id\": 4, \"previousEventId\": 3, \"taskStartedEventDetails\": {\"resourceType\": \"sagemaker\", \"resource\": \"createProcessingJob.sync\"}}, {\"timestamp\": 1694824921.487, \"type\": \"TaskSubmitted\", \"id\": 5, \"previousEventId\": 4, \"taskSubmittedEventDetails\": {\"resourceType\": \"sagemaker\", \"resource\": \"createProcessingJob.sync\", \"output\": \"{\\\"ProcessingJobArn\\\":\\\"arn:aws:sagemaker:eu-central-1:401082536487:processing-job/mnist-tensorflow-processing-16-09-2023-03-42-00\\\",\\\"SdkHttpMetadata\\\":{\\\"AllHttpHeaders\\\":{\\\"x-amzn-RequestId\\\":[\\\"134fffa8-4b46-4cdf-955a-e4d8cb2ac571\\\"],\\\"Content-Length\\\":[\\\"129\\\"],\\\"Date\\\":[\\\"Sat, 16 Sep 2023 00:42:01 GMT\\\"],\\\"Content-Type\\\":[\\\"application/x-amz-json-1.1\\\"]},\\\"HttpHeaders\\\":{\\\"Content-Length\\\":\\\"129\\\",\\\"Content-Type\\\":\\\"application/x-amz-json-1.1\\\",\\\"Date\\\":\\\"Sat, 16 Sep 2023 00:42:01 GMT\\\",\\\"x-amzn-RequestId\\\":\\\"134fffa8-4b46-4cdf-955a-e4d8cb2ac571\\\"},\\\"HttpStatusCode\\\":200},\\\"SdkResponseMetadata\\\":{\\\"RequestId\\\":\\\"134fffa8-4b46-4cdf-955a-e4d8cb2ac571\\\"}}\", \"outputDetails\": {\"truncated\": false}}}, {\"timestamp\": 1694825240.637, \"type\": \"TaskSucceeded\", \"id\": 6, \"previousEventId\": 5, \"taskSucceededEventDetails\": {\"resourceType\": \"sagemaker\", \"resource\": \"createProcessingJob.sync\", \"output\": \"{\\\"SdkResponseMetadata\\\":null,\\\"SdkHttpMetadata\\\":null,\\\"ProcessingInputs\\\":[{\\\"InputName\\\":\\\"processing_input\\\",\\\"AppManaged\\\":false,\\\"S3Input\\\":{\\\"S3Uri\\\":\\\"s3://training-data-sagemaker-tensorflow-mnist/processing_input/\\\",\\\"LocalPath\\\":\\\"/opt/ml/processing/input\\\",\\\"S3DataType\\\":\\\"S3_PREFIX\\\",\\\"S3InputMode\\\":\\\"FILE\\\",\\\"S3DataDistributionType\\\":\\\"FULLYREPLICATED\\\",\\\"S3CompressionType\\\":null},\\\"DatasetDefinition\\\":null}],\\\"ProcessingOutputConfig\\\":{\\\"Outputs\\\":[{\\\"OutputName\\\":\\\"processing_output\\\",\\\"S3Output\\\":{\\\"S3Uri\\\":\\\"s3://training-data-sagemaker-tensorflow-mnist/processing_output\\\",\\\"LocalPath\\\":\\\"/opt/ml/processing/output\\\",\\\"S3UploadMode\\\":\\\"END_OF_JOB\\\"},\\\"FeatureStoreOutput\\\":null,\\\"AppManaged\\\":false}],\\\"KmsKeyId\\\":null},\\\"ProcessingJobName\\\":\\\"mnist-tensorflow-processing-16-09-2023-03-42-00\\\",\\\"ProcessingResources\\\":{\\\"ClusterConfig\\\":{\\\"InstanceCount\\\":1,\\\"InstanceType\\\":\\\"ml.t3.large\\\",\\\"VolumeSizeInGB\\\":30,\\\"VolumeKmsKeyId\\\":null}},\\\"StoppingCondition\\\":{\\\"MaxRuntimeInSeconds\\\":86400},\\\"AppSpecification\\\":{\\\"ImageUri\\\":\\\"401082536487.dkr.ecr.eu-central-1.amazonaws.com/mnist-processingjob:889d1e4cd1e9f06a67a9ba92c0cb4f6112202ba4\\\",\\\"ContainerEntrypoint\\\":null,\\\"ContainerArguments\\\":null},\\\"Environment\\\":null,\\\"NetworkConfig\\\":null,\\\"RoleArn\\\":\\\"arn:aws:iam::401082536487:role/AWS-SAGEMAKER-EXECUTION\\\",\\\"ExperimentConfig\\\":{\\\"ExperimentName\\\":null,\\\"TrialName\\\":null,\\\"TrialComponentDisplayName\\\":null,\\\"RunName\\\":null},\\\"ProcessingJobArn\\\":\\\"arn:aws:sagemaker:eu-central-1:401082536487:processing-job/mnist-tensorflow-processing-16-09-2023-03-42-00\\\",\\\"ProcessingJobStatus\\\":\\\"Completed\\\",\\\"ExitMessage\\\":null,\\\"FailureReason\\\":null,\\\"ProcessingEndTime\\\":1694825238000,\\\"ProcessingStartTime\\\":1694825200000,\\\"LastModifiedTime\\\":1694825238000,\\\"CreationTime\\\":1694824921000,\\\"LastModifiedBy\\\":null,\\\"CreatedBy\\\":null,\\\"MonitoringScheduleArn\\\":null,\\\"AutoMLJobArn\\\":null,\\\"TrainingJobArn\\\":null,\\\"Tags\\\":{\\\"AWS_STEP_FUNCTIONS_EXECUTION_ARN\\\":\\\"arn:aws:states:eu-central-1:401082536487:execution:TrainingWorkflow:13e08cde-2400-4585-97d7-d8ca2c5396fb\\\",\\\"MANAGED_BY_AWS\\\":\\\"STARTED_BY_STEP_FUNCTIONS\\\"}}\", \"outputDetails\": {\"truncated\": false}}}, {\"timestamp\": 1694825240.674, \"type\": \"TaskStateExited\", \"id\": 7, \"previousEventId\": 6, \"stateExitedEventDetails\": {\"name\": \"Preprocessing Data\", \"output\": \"{\\\"SdkResponseMetadata\\\":null,\\\"SdkHttpMetadata\\\":null,\\\"ProcessingInputs\\\":[{\\\"InputName\\\":\\\"processing_input\\\",\\\"AppManaged\\\":false,\\\"S3Input\\\":{\\\"S3Uri\\\":\\\"s3://training-data-sagemaker-tensorflow-mnist/processing_input/\\\",\\\"LocalPath\\\":\\\"/opt/ml/processing/input\\\",\\\"S3DataType\\\":\\\"S3_PREFIX\\\",\\\"S3InputMode\\\":\\\"FILE\\\",\\\"S3DataDistributionType\\\":\\\"FULLYREPLICATED\\\",\\\"S3CompressionType\\\":null},\\\"DatasetDefinition\\\":null}],\\\"ProcessingOutputConfig\\\":{\\\"Outputs\\\":[{\\\"OutputName\\\":\\\"processing_output\\\",\\\"S3Output\\\":{\\\"S3Uri\\\":\\\"s3://training-data-sagemaker-tensorflow-mnist/processing_output\\\",\\\"LocalPath\\\":\\\"/opt/ml/processing/output\\\",\\\"S3UploadMode\\\":\\\"END_OF_JOB\\\"},\\\"FeatureStoreOutput\\\":null,\\\"AppManaged\\\":false}],\\\"KmsKeyId\\\":null},\\\"ProcessingJobName\\\":\\\"mnist-tensorflow-processing-16-09-2023-03-42-00\\\",\\\"ProcessingResources\\\":{\\\"ClusterConfig\\\":{\\\"InstanceCount\\\":1,\\\"InstanceType\\\":\\\"ml.t3.large\\\",\\\"VolumeSizeInGB\\\":30,\\\"VolumeKmsKeyId\\\":null}},\\\"StoppingCondition\\\":{\\\"MaxRuntimeInSeconds\\\":86400},\\\"AppSpecification\\\":{\\\"ImageUri\\\":\\\"401082536487.dkr.ecr.eu-central-1.amazonaws.com/mnist-processingjob:889d1e4cd1e9f06a67a9ba92c0cb4f6112202ba4\\\",\\\"ContainerEntrypoint\\\":null,\\\"ContainerArguments\\\":null},\\\"Environment\\\":null,\\\"NetworkConfig\\\":null,\\\"RoleArn\\\":\\\"arn:aws:iam::401082536487:role/AWS-SAGEMAKER-EXECUTION\\\",\\\"ExperimentConfig\\\":{\\\"ExperimentName\\\":null,\\\"TrialName\\\":null,\\\"TrialComponentDisplayName\\\":null,\\\"RunName\\\":null},\\\"ProcessingJobArn\\\":\\\"arn:aws:sagemaker:eu-central-1:401082536487:processing-job/mnist-tensorflow-processing-16-09-2023-03-42-00\\\",\\\"ProcessingJobStatus\\\":\\\"Completed\\\",\\\"ExitMessage\\\":null,\\\"FailureReason\\\":null,\\\"ProcessingEndTime\\\":1694825238000,\\\"ProcessingStartTime\\\":1694825200000,\\\"LastModifiedTime\\\":1694825238000,\\\"CreationTime\\\":1694824921000,\\\"LastModifiedBy\\\":null,\\\"CreatedBy\\\":null,\\\"MonitoringScheduleArn\\\":null,\\\"AutoMLJobArn\\\":null,\\\"TrainingJobArn\\\":null,\\\"Tags\\\":{\\\"AWS_STEP_FUNCTIONS_EXECUTION_ARN\\\":\\\"arn:aws:states:eu-central-1:401082536487:execution:TrainingWorkflow:13e08cde-2400-4585-97d7-d8ca2c5396fb\\\",\\\"MANAGED_BY_AWS\\\":\\\"STARTED_BY_STEP_FUNCTIONS\\\"}}\", \"outputDetails\": {\"truncated\": false}}}, {\"timestamp\": 1694825240.674, \"type\": \"TaskStateEntered\", \"id\": 8, \"previousEventId\": 7, \"stateEnteredEventDetails\": {\"name\": \"Model Training\", \"input\": \"{\\\"SdkResponseMetadata\\\":null,\\\"SdkHttpMetadata\\\":null,\\\"ProcessingInputs\\\":[{\\\"InputName\\\":\\\"processing_input\\\",\\\"AppManaged\\\":false,\\\"S3Input\\\":{\\\"S3Uri\\\":\\\"s3://training-data-sagemaker-tensorflow-mnist/processing_input/\\\",\\\"LocalPath\\\":\\\"/opt/ml/processing/input\\\",\\\"S3DataType\\\":\\\"S3_PREFIX\\\",\\\"S3InputMode\\\":\\\"FILE\\\",\\\"S3DataDistributionType\\\":\\\"FULLYREPLICATED\\\",\\\"S3CompressionType\\\":null},\\\"DatasetDefinition\\\":null}],\\\"ProcessingOutputConfig\\\":{\\\"Outputs\\\":[{\\\"OutputName\\\":\\\"processing_output\\\",\\\"S3Output\\\":{\\\"S3Uri\\\":\\\"s3://training-data-sagemaker-tensorflow-mnist/processing_output\\\",\\\"LocalPath\\\":\\\"/opt/ml/processing/output\\\",\\\"S3UploadMode\\\":\\\"END_OF_JOB\\\"},\\\"FeatureStoreOutput\\\":null,\\\"AppManaged\\\":false}],\\\"KmsKeyId\\\":null},\\\"ProcessingJobName\\\":\\\"mnist-tensorflow-processing-16-09-2023-03-42-00\\\",\\\"ProcessingResources\\\":{\\\"ClusterConfig\\\":{\\\"InstanceCount\\\":1,\\\"InstanceType\\\":\\\"ml.t3.large\\\",\\\"VolumeSizeInGB\\\":30,\\\"VolumeKmsKeyId\\\":null}},\\\"StoppingCondition\\\":{\\\"MaxRuntimeInSeconds\\\":86400},\\\"AppSpecification\\\":{\\\"ImageUri\\\":\\\"401082536487.dkr.ecr.eu-central-1.amazonaws.com/mnist-processingjob:889d1e4cd1e9f06a67a9ba92c0cb4f6112202ba4\\\",\\\"ContainerEntrypoint\\\":null,\\\"ContainerArguments\\\":null},\\\"Environment\\\":null,\\\"NetworkConfig\\\":null,\\\"RoleArn\\\":\\\"arn:aws:iam::401082536487:role/AWS-SAGEMAKER-EXECUTION\\\",\\\"ExperimentConfig\\\":{\\\"ExperimentName\\\":null,\\\"TrialName\\\":null,\\\"TrialComponentDisplayName\\\":null,\\\"RunName\\\":null},\\\"ProcessingJobArn\\\":\\\"arn:aws:sagemaker:eu-central-1:401082536487:processing-job/mnist-tensorflow-processing-16-09-2023-03-42-00\\\",\\\"ProcessingJobStatus\\\":\\\"Completed\\\",\\\"ExitMessage\\\":null,\\\"FailureReason\\\":null,\\\"ProcessingEndTime\\\":1694825238000,\\\"ProcessingStartTime\\\":1694825200000,\\\"LastModifiedTime\\\":1694825238000,\\\"CreationTime\\\":1694824921000,\\\"LastModifiedBy\\\":null,\\\"CreatedBy\\\":null,\\\"MonitoringScheduleArn\\\":null,\\\"AutoMLJobArn\\\":null,\\\"TrainingJobArn\\\":null,\\\"Tags\\\":{\\\"AWS_STEP_FUNCTIONS_EXECUTION_ARN\\\":\\\"arn:aws:states:eu-central-1:401082536487:execution:TrainingWorkflow:13e08cde-2400-4585-97d7-d8ca2c5396fb\\\",\\\"MANAGED_BY_AWS\\\":\\\"STARTED_BY_STEP_FUNCTIONS\\\"}}\", \"inputDetails\": {\"truncated\": false}}}, {\"timestamp\": 1694825240.674, \"type\": \"TaskScheduled\", \"id\": 9, \"previousEventId\": 8, \"taskScheduledEventDetails\": {\"resourceType\": \"sagemaker\", \"resource\": \"createTrainingJob.sync\", \"region\": \"eu-central-1\", \"parameters\": \"{\\\"AlgorithmSpecification\\\":{\\\"TrainingImage\\\":\\\"763104351884.dkr.ecr.eu-central-1.amazonaws.com/tensorflow-training:2.7-cpu-py38\\\",\\\"TrainingInputMode\\\":\\\"File\\\"},\\\"OutputDataConfig\\\":{\\\"S3OutputPath\\\":\\\"s3://training-data-sagemaker-tensorflow-mnist/training_output\\\"},\\\"StoppingCondition\\\":{\\\"MaxRuntimeInSeconds\\\":86400},\\\"ResourceConfig\\\":{\\\"VolumeSizeInGB\\\":30,\\\"InstanceCount\\\":1,\\\"InstanceType\\\":\\\"ml.m5.large\\\"},\\\"RoleArn\\\":\\\"arn:aws:iam::401082536487:role/AWS-SAGEMAKER-EXECUTION\\\",\\\"InputDataConfig\\\":[{\\\"DataSource\\\":{\\\"S3DataSource\\\":{\\\"S3DataType\\\":\\\"S3Prefix\\\",\\\"S3Uri\\\":\\\"s3://training-data-sagemaker-tensorflow-mnist/processing_output\\\",\\\"S3DataDistributionType\\\":\\\"FullyReplicated\\\"}},\\\"ChannelName\\\":\\\"train\\\"}],\\\"HyperParameters\\\":{\\\"sagemaker_submit_directory\\\":\\\"\\\\\\\"s3://training-data-sagemaker-tensorflow-mnist/tensorflow-training-2023-09-16-00-41-56-274/source/sourcedir.tar.gz\\\\\\\"\\\",\\\"sagemaker_program\\\":\\\"\\\\\\\"mnist_training.py\\\\\\\"\\\",\\\"sagemaker_container_log_level\\\":\\\"20\\\",\\\"sagemaker_job_name\\\":\\\"\\\\\\\"tensorflow-training-2023-09-16-00-41-56-936\\\\\\\"\\\",\\\"sagemaker_region\\\":\\\"\\\\\\\"eu-central-1\\\\\\\"\\\",\\\"model_dir\\\":\\\"\\\\\\\"s3://training-data-sagemaker-tensorflow-mnist/training_output/tensorflow-training-2023-09-16-00-41-56-936/model\\\\\\\"\\\"},\\\"DebugHookConfig\\\":{\\\"S3OutputPath\\\":\\\"s3://training-data-sagemaker-tensorflow-mnist/training_output\\\"},\\\"TrainingJobName\\\":\\\"mnist-tensorflow-training-16-09-2023-03-42-00\\\",\\\"Tags\\\":[{\\\"Key\\\":\\\"MANAGED_BY_AWS\\\",\\\"Value\\\":\\\"STARTED_BY_STEP_FUNCTIONS\\\"}]}\"}}, {\"timestamp\": 1694825240.756, \"type\": \"TaskStarted\", \"id\": 10, \"previousEventId\": 9, \"taskStartedEventDetails\": {\"resourceType\": \"sagemaker\", \"resource\": \"createTrainingJob.sync\"}}, {\"timestamp\": 1694825241.17, \"type\": \"TaskSubmitted\", \"id\": 11, \"previousEventId\": 10, \"taskSubmittedEventDetails\": {\"resourceType\": \"sagemaker\", \"resource\": \"createTrainingJob.sync\", \"output\": \"{\\\"SdkHttpMetadata\\\":{\\\"AllHttpHeaders\\\":{\\\"x-amzn-RequestId\\\":[\\\"d95137bf-d1d4-44e7-9e63-973bd9e5ca67\\\"],\\\"Content-Length\\\":[\\\"123\\\"],\\\"Date\\\":[\\\"Sat, 16 Sep 2023 00:47:20 GMT\\\"],\\\"Content-Type\\\":[\\\"application/x-amz-json-1.1\\\"]},\\\"HttpHeaders\\\":{\\\"Content-Length\\\":\\\"123\\\",\\\"Content-Type\\\":\\\"application/x-amz-json-1.1\\\",\\\"Date\\\":\\\"Sat, 16 Sep 2023 00:47:20 GMT\\\",\\\"x-amzn-RequestId\\\":\\\"d95137bf-d1d4-44e7-9e63-973bd9e5ca67\\\"},\\\"HttpStatusCode\\\":200},\\\"SdkResponseMetadata\\\":{\\\"RequestId\\\":\\\"d95137bf-d1d4-44e7-9e63-973bd9e5ca67\\\"},\\\"TrainingJobArn\\\":\\\"arn:aws:sagemaker:eu-central-1:401082536487:training-job/mnist-tensorflow-training-16-09-2023-03-42-00\\\"}\", \"outputDetails\": {\"truncated\": false}}}, {\"timestamp\": 1694825475.715, \"type\": \"TaskSucceeded\", \"id\": 12, \"previousEventId\": 11, \"taskSucceededEventDetails\": {\"resourceType\": \"sagemaker\", \"resource\": \"createTrainingJob.sync\", \"output\": \"{\\\"SdkResponseMetadata\\\":null,\\\"SdkHttpMetadata\\\":null,\\\"TrainingJobName\\\":\\\"mnist-tensorflow-training-16-09-2023-03-42-00\\\",\\\"TrainingJobArn\\\":\\\"arn:aws:sagemaker:eu-central-1:401082536487:training-job/mnist-tensorflow-training-16-09-2023-03-42-00\\\",\\\"ProcessingJobArn\\\":null,\\\"TuningJobArn\\\":null,\\\"LabelingJobArn\\\":null,\\\"AutoMLJobArn\\\":null,\\\"ModelArtifacts\\\":{\\\"S3ModelArtifacts\\\":\\\"s3://training-data-sagemaker-tensorflow-mnist/training_output/mnist-tensorflow-training-16-09-2023-03-42-00/output/model.tar.gz\\\"},\\\"TrainingJobOutput\\\":null,\\\"TrainingJobStatus\\\":\\\"Completed\\\",\\\"SecondaryStatus\\\":\\\"Completed\\\",\\\"FailureReason\\\":null,\\\"HyperParameters\\\":{\\\"sagemaker_region\\\":\\\"\\\\\\\"eu-central-1\\\\\\\"\\\",\\\"sagemaker_container_log_level\\\":\\\"20\\\",\\\"sagemaker_program\\\":\\\"\\\\\\\"mnist_training.py\\\\\\\"\\\",\\\"model_dir\\\":\\\"\\\\\\\"s3://training-data-sagemaker-tensorflow-mnist/training_output/tensorflow-training-2023-09-16-00-41-56-936/model\\\\\\\"\\\",\\\"sagemaker_job_name\\\":\\\"\\\\\\\"tensorflow-training-2023-09-16-00-41-56-936\\\\\\\"\\\",\\\"sagemaker_submit_directory\\\":\\\"\\\\\\\"s3://training-data-sagemaker-tensorflow-mnist/tensorflow-training-2023-09-16-00-41-56-274/source/sourcedir.tar.gz\\\\\\\"\\\"},\\\"AlgorithmSpecification\\\":{\\\"TrainingImage\\\":\\\"763104351884.dkr.ecr.eu-central-1.amazonaws.com/tensorflow-training:2.7-cpu-py38\\\",\\\"TrainingImageConfig\\\":null,\\\"AlgorithmName\\\":null,\\\"TrainingInputMode\\\":\\\"FILE\\\",\\\"MetricDefinitions\\\":null,\\\"EnableSageMakerMetricsTimeSeries\\\":null,\\\"ContainerEntrypoint\\\":null,\\\"ContainerArguments\\\":null},\\\"RoleArn\\\":\\\"arn:aws:iam::401082536487:role/AWS-SAGEMAKER-EXECUTION\\\",\\\"InputDataConfig\\\":[{\\\"ChannelName\\\":\\\"train\\\",\\\"DataSource\\\":{\\\"S3DataSource\\\":{\\\"S3DataType\\\":\\\"S3_PREFIX\\\",\\\"S3Uri\\\":\\\"s3://training-data-sagemaker-tensorflow-mnist/processing_output\\\",\\\"S3DataDistributionType\\\":\\\"FULLY_REPLICATED\\\",\\\"AttributeNames\\\":null,\\\"InstanceGroupNames\\\":null},\\\"FileSystemDataSource\\\":null},\\\"ContentType\\\":null,\\\"CompressionType\\\":\\\"NONE\\\",\\\"RecordWrapperType\\\":\\\"NONE\\\",\\\"InputMode\\\":null,\\\"ShuffleConfig\\\":null,\\\"EnableFFM\\\":null}],\\\"OutputDataConfig\\\":{\\\"KmsKeyId\\\":null,\\\"S3OutputPath\\\":\\\"s3://training-data-sagemaker-tensorflow-mnist/training_output\\\",\\\"CompressionType\\\":null,\\\"RemoveJobNameFromS3OutputPath\\\":null,\\\"DisableModelUpload\\\":null,\\\"Channels\\\":null},\\\"ResourceConfig\\\":{\\\"InstanceType\\\":\\\"ml.m5.large\\\",\\\"InstanceCount\\\":1,\\\"VolumeSizeInGB\\\":30,\\\"VolumeKmsKeyId\\\":null,\\\"KeepAlivePeriodInSeconds\\\":0,\\\"CapacityReservationIds\\\":null,\\\"InstanceGroups\\\":null},\\\"WarmPoolStatus\\\":null,\\\"VpcConfig\\\":null,\\\"StoppingCondition\\\":{\\\"MaxRuntimeInSeconds\\\":86400,\\\"MaxWaitTimeInSeconds\\\":null},\\\"CreationTime\\\":1694825240939,\\\"TrainingStartTime\\\":1694825311310,\\\"TrainingEndTime\\\":1694825473140,\\\"LastModifiedTime\\\":1694825473794,\\\"SecondaryStatusTransitions\\\":[{\\\"Status\\\":\\\"Starting\\\",\\\"StartTime\\\":1694825240939,\\\"EndTime\\\":1694825311310,\\\"StatusMessage\\\":\\\"Preparing the instances for training\\\"},{\\\"Status\\\":\\\"Downloading\\\",\\\"StartTime\\\":1694825311310,\\\"EndTime\\\":1694825336697,\\\"StatusMessage\\\":\\\"Downloading input data\\\"},{\\\"Status\\\":\\\"Training\\\",\\\"StartTime\\\":1694825336697,\\\"EndTime\\\":1694825462789,\\\"StatusMessage\\\":\\\"Training image download completed. Training in progress.\\\"},{\\\"Status\\\":\\\"Uploading\\\",\\\"StartTime\\\":1694825462789,\\\"EndTime\\\":1694825473140,\\\"StatusMessage\\\":\\\"Uploading generated training model\\\"},{\\\"Status\\\":\\\"Completed\\\",\\\"StartTime\\\":1694825473140,\\\"EndTime\\\":1694825473140,\\\"StatusMessage\\\":\\\"Training job completed\\\"}],\\\"FinalMetricDataList\\\":null,\\\"EnableNetworkIsolation\\\":null,\\\"EnableInterContainerTrafficEncryption\\\":null,\\\"EnableManagedSpotTraining\\\":null,\\\"CheckpointConfig\\\":null,\\\"TrainingTimeInSeconds\\\":null,\\\"BillableTimeInSeconds\\\":null,\\\"DebugHookConfig\\\":{\\\"LocalPath\\\":null,\\\"S3OutputPath\\\":\\\"s3://training-data-sagemaker-tensorflow-mnist/training_output\\\",\\\"HookParameters\\\":null,\\\"CollectionConfigurations\\\":null},\\\"ExperimentConfig\\\":null,\\\"DebugRuleConfigurations\\\":null,\\\"TensorBoardOutputConfig\\\":null,\\\"DebugRuleEvaluationStatuses\\\":null,\\\"UpstreamPlatformConfig\\\":null,\\\"ProfilerConfig\\\":null,\\\"ProfilerRuleConfigurations\\\":null,\\\"ProfilerRuleEvaluationStatuses\\\":null,\\\"ProfilingStatus\\\":null,\\\"Environment\\\":null,\\\"RetryStrategy\\\":null,\\\"LastModifiedBy\\\":null,\\\"CreatedBy\\\":null,\\\"DisableEFA\\\":null,\\\"ProcessingJobConfig\\\":null,\\\"RemoteDebugConfig\\\":null,\\\"ResourceTags\\\":null,\\\"Tags\\\":{\\\"AWS_STEP_FUNCTIONS_EXECUTION_ARN\\\":\\\"arn:aws:states:eu-central-1:401082536487:execution:TrainingWorkflow:13e08cde-2400-4585-97d7-d8ca2c5396fb\\\",\\\"MANAGED_BY_AWS\\\":\\\"STARTED_BY_STEP_FUNCTIONS\\\"}}\", \"outputDetails\": {\"truncated\": false}}}, {\"timestamp\": 1694825475.734, \"type\": \"TaskStateExited\", \"id\": 13, \"previousEventId\": 12, \"stateExitedEventDetails\": {\"name\": \"Model Training\", \"output\": \"{\\\"SdkResponseMetadata\\\":null,\\\"SdkHttpMetadata\\\":null,\\\"TrainingJobName\\\":\\\"mnist-tensorflow-training-16-09-2023-03-42-00\\\",\\\"TrainingJobArn\\\":\\\"arn:aws:sagemaker:eu-central-1:401082536487:training-job/mnist-tensorflow-training-16-09-2023-03-42-00\\\",\\\"ProcessingJobArn\\\":null,\\\"TuningJobArn\\\":null,\\\"LabelingJobArn\\\":null,\\\"AutoMLJobArn\\\":null,\\\"ModelArtifacts\\\":{\\\"S3ModelArtifacts\\\":\\\"s3://training-data-sagemaker-tensorflow-mnist/training_output/mnist-tensorflow-training-16-09-2023-03-42-00/output/model.tar.gz\\\"},\\\"TrainingJobOutput\\\":null,\\\"TrainingJobStatus\\\":\\\"Completed\\\",\\\"SecondaryStatus\\\":\\\"Completed\\\",\\\"FailureReason\\\":null,\\\"HyperParameters\\\":{\\\"sagemaker_region\\\":\\\"\\\\\\\"eu-central-1\\\\\\\"\\\",\\\"sagemaker_container_log_level\\\":\\\"20\\\",\\\"sagemaker_program\\\":\\\"\\\\\\\"mnist_training.py\\\\\\\"\\\",\\\"model_dir\\\":\\\"\\\\\\\"s3://training-data-sagemaker-tensorflow-mnist/training_output/tensorflow-training-2023-09-16-00-41-56-936/model\\\\\\\"\\\",\\\"sagemaker_job_name\\\":\\\"\\\\\\\"tensorflow-training-2023-09-16-00-41-56-936\\\\\\\"\\\",\\\"sagemaker_submit_directory\\\":\\\"\\\\\\\"s3://training-data-sagemaker-tensorflow-mnist/tensorflow-training-2023-09-16-00-41-56-274/source/sourcedir.tar.gz\\\\\\\"\\\"},\\\"AlgorithmSpecification\\\":{\\\"TrainingImage\\\":\\\"763104351884.dkr.ecr.eu-central-1.amazonaws.com/tensorflow-training:2.7-cpu-py38\\\",\\\"TrainingImageConfig\\\":null,\\\"AlgorithmName\\\":null,\\\"TrainingInputMode\\\":\\\"FILE\\\",\\\"MetricDefinitions\\\":null,\\\"EnableSageMakerMetricsTimeSeries\\\":null,\\\"ContainerEntrypoint\\\":null,\\\"ContainerArguments\\\":null},\\\"RoleArn\\\":\\\"arn:aws:iam::401082536487:role/AWS-SAGEMAKER-EXECUTION\\\",\\\"InputDataConfig\\\":[{\\\"ChannelName\\\":\\\"train\\\",\\\"DataSource\\\":{\\\"S3DataSource\\\":{\\\"S3DataType\\\":\\\"S3_PREFIX\\\",\\\"S3Uri\\\":\\\"s3://training-data-sagemaker-tensorflow-mnist/processing_output\\\",\\\"S3DataDistributionType\\\":\\\"FULLY_REPLICATED\\\",\\\"AttributeNames\\\":null,\\\"InstanceGroupNames\\\":null},\\\"FileSystemDataSource\\\":null},\\\"ContentType\\\":null,\\\"CompressionType\\\":\\\"NONE\\\",\\\"RecordWrapperType\\\":\\\"NONE\\\",\\\"InputMode\\\":null,\\\"ShuffleConfig\\\":null,\\\"EnableFFM\\\":null}],\\\"OutputDataConfig\\\":{\\\"KmsKeyId\\\":null,\\\"S3OutputPath\\\":\\\"s3://training-data-sagemaker-tensorflow-mnist/training_output\\\",\\\"CompressionType\\\":null,\\\"RemoveJobNameFromS3OutputPath\\\":null,\\\"DisableModelUpload\\\":null,\\\"Channels\\\":null},\\\"ResourceConfig\\\":{\\\"InstanceType\\\":\\\"ml.m5.large\\\",\\\"InstanceCount\\\":1,\\\"VolumeSizeInGB\\\":30,\\\"VolumeKmsKeyId\\\":null,\\\"KeepAlivePeriodInSeconds\\\":0,\\\"CapacityReservationIds\\\":null,\\\"InstanceGroups\\\":null},\\\"WarmPoolStatus\\\":null,\\\"VpcConfig\\\":null,\\\"StoppingCondition\\\":{\\\"MaxRuntimeInSeconds\\\":86400,\\\"MaxWaitTimeInSeconds\\\":null},\\\"CreationTime\\\":1694825240939,\\\"TrainingStartTime\\\":1694825311310,\\\"TrainingEndTime\\\":1694825473140,\\\"LastModifiedTime\\\":1694825473794,\\\"SecondaryStatusTransitions\\\":[{\\\"Status\\\":\\\"Starting\\\",\\\"StartTime\\\":1694825240939,\\\"EndTime\\\":1694825311310,\\\"StatusMessage\\\":\\\"Preparing the instances for training\\\"},{\\\"Status\\\":\\\"Downloading\\\",\\\"StartTime\\\":1694825311310,\\\"EndTime\\\":1694825336697,\\\"StatusMessage\\\":\\\"Downloading input data\\\"},{\\\"Status\\\":\\\"Training\\\",\\\"StartTime\\\":1694825336697,\\\"EndTime\\\":1694825462789,\\\"StatusMessage\\\":\\\"Training image download completed. Training in progress.\\\"},{\\\"Status\\\":\\\"Uploading\\\",\\\"StartTime\\\":1694825462789,\\\"EndTime\\\":1694825473140,\\\"StatusMessage\\\":\\\"Uploading generated training model\\\"},{\\\"Status\\\":\\\"Completed\\\",\\\"StartTime\\\":1694825473140,\\\"EndTime\\\":1694825473140,\\\"StatusMessage\\\":\\\"Training job completed\\\"}],\\\"FinalMetricDataList\\\":null,\\\"EnableNetworkIsolation\\\":null,\\\"EnableInterContainerTrafficEncryption\\\":null,\\\"EnableManagedSpotTraining\\\":null,\\\"CheckpointConfig\\\":null,\\\"TrainingTimeInSeconds\\\":null,\\\"BillableTimeInSeconds\\\":null,\\\"DebugHookConfig\\\":{\\\"LocalPath\\\":null,\\\"S3OutputPath\\\":\\\"s3://training-data-sagemaker-tensorflow-mnist/training_output\\\",\\\"HookParameters\\\":null,\\\"CollectionConfigurations\\\":null},\\\"ExperimentConfig\\\":null,\\\"DebugRuleConfigurations\\\":null,\\\"TensorBoardOutputConfig\\\":null,\\\"DebugRuleEvaluationStatuses\\\":null,\\\"UpstreamPlatformConfig\\\":null,\\\"ProfilerConfig\\\":null,\\\"ProfilerRuleConfigurations\\\":null,\\\"ProfilerRuleEvaluationStatuses\\\":null,\\\"ProfilingStatus\\\":null,\\\"Environment\\\":null,\\\"RetryStrategy\\\":null,\\\"LastModifiedBy\\\":null,\\\"CreatedBy\\\":null,\\\"DisableEFA\\\":null,\\\"ProcessingJobConfig\\\":null,\\\"RemoteDebugConfig\\\":null,\\\"ResourceTags\\\":null,\\\"Tags\\\":{\\\"AWS_STEP_FUNCTIONS_EXECUTION_ARN\\\":\\\"arn:aws:states:eu-central-1:401082536487:execution:TrainingWorkflow:13e08cde-2400-4585-97d7-d8ca2c5396fb\\\",\\\"MANAGED_BY_AWS\\\":\\\"STARTED_BY_STEP_FUNCTIONS\\\"}}\", \"outputDetails\": {\"truncated\": false}}}, {\"timestamp\": 1694825475.787, \"type\": \"ExecutionSucceeded\", \"id\": 14, \"previousEventId\": 13, \"executionSucceededEventDetails\": {\"output\": \"{\\\"SdkResponseMetadata\\\":null,\\\"SdkHttpMetadata\\\":null,\\\"TrainingJobName\\\":\\\"mnist-tensorflow-training-16-09-2023-03-42-00\\\",\\\"TrainingJobArn\\\":\\\"arn:aws:sagemaker:eu-central-1:401082536487:training-job/mnist-tensorflow-training-16-09-2023-03-42-00\\\",\\\"ProcessingJobArn\\\":null,\\\"TuningJobArn\\\":null,\\\"LabelingJobArn\\\":null,\\\"AutoMLJobArn\\\":null,\\\"ModelArtifacts\\\":{\\\"S3ModelArtifacts\\\":\\\"s3://training-data-sagemaker-tensorflow-mnist/training_output/mnist-tensorflow-training-16-09-2023-03-42-00/output/model.tar.gz\\\"},\\\"TrainingJobOutput\\\":null,\\\"TrainingJobStatus\\\":\\\"Completed\\\",\\\"SecondaryStatus\\\":\\\"Completed\\\",\\\"FailureReason\\\":null,\\\"HyperParameters\\\":{\\\"sagemaker_region\\\":\\\"\\\\\\\"eu-central-1\\\\\\\"\\\",\\\"sagemaker_container_log_level\\\":\\\"20\\\",\\\"sagemaker_program\\\":\\\"\\\\\\\"mnist_training.py\\\\\\\"\\\",\\\"model_dir\\\":\\\"\\\\\\\"s3://training-data-sagemaker-tensorflow-mnist/training_output/tensorflow-training-2023-09-16-00-41-56-936/model\\\\\\\"\\\",\\\"sagemaker_job_name\\\":\\\"\\\\\\\"tensorflow-training-2023-09-16-00-41-56-936\\\\\\\"\\\",\\\"sagemaker_submit_directory\\\":\\\"\\\\\\\"s3://training-data-sagemaker-tensorflow-mnist/tensorflow-training-2023-09-16-00-41-56-274/source/sourcedir.tar.gz\\\\\\\"\\\"},\\\"AlgorithmSpecification\\\":{\\\"TrainingImage\\\":\\\"763104351884.dkr.ecr.eu-central-1.amazonaws.com/tensorflow-training:2.7-cpu-py38\\\",\\\"TrainingImageConfig\\\":null,\\\"AlgorithmName\\\":null,\\\"TrainingInputMode\\\":\\\"FILE\\\",\\\"MetricDefinitions\\\":null,\\\"EnableSageMakerMetricsTimeSeries\\\":null,\\\"ContainerEntrypoint\\\":null,\\\"ContainerArguments\\\":null},\\\"RoleArn\\\":\\\"arn:aws:iam::401082536487:role/AWS-SAGEMAKER-EXECUTION\\\",\\\"InputDataConfig\\\":[{\\\"ChannelName\\\":\\\"train\\\",\\\"DataSource\\\":{\\\"S3DataSource\\\":{\\\"S3DataType\\\":\\\"S3_PREFIX\\\",\\\"S3Uri\\\":\\\"s3://training-data-sagemaker-tensorflow-mnist/processing_output\\\",\\\"S3DataDistributionType\\\":\\\"FULLY_REPLICATED\\\",\\\"AttributeNames\\\":null,\\\"InstanceGroupNames\\\":null},\\\"FileSystemDataSource\\\":null},\\\"ContentType\\\":null,\\\"CompressionType\\\":\\\"NONE\\\",\\\"RecordWrapperType\\\":\\\"NONE\\\",\\\"InputMode\\\":null,\\\"ShuffleConfig\\\":null,\\\"EnableFFM\\\":null}],\\\"OutputDataConfig\\\":{\\\"KmsKeyId\\\":null,\\\"S3OutputPath\\\":\\\"s3://training-data-sagemaker-tensorflow-mnist/training_output\\\",\\\"CompressionType\\\":null,\\\"RemoveJobNameFromS3OutputPath\\\":null,\\\"DisableModelUpload\\\":null,\\\"Channels\\\":null},\\\"ResourceConfig\\\":{\\\"InstanceType\\\":\\\"ml.m5.large\\\",\\\"InstanceCount\\\":1,\\\"VolumeSizeInGB\\\":30,\\\"VolumeKmsKeyId\\\":null,\\\"KeepAlivePeriodInSeconds\\\":0,\\\"CapacityReservationIds\\\":null,\\\"InstanceGroups\\\":null},\\\"WarmPoolStatus\\\":null,\\\"VpcConfig\\\":null,\\\"StoppingCondition\\\":{\\\"MaxRuntimeInSeconds\\\":86400,\\\"MaxWaitTimeInSeconds\\\":null},\\\"CreationTime\\\":1694825240939,\\\"TrainingStartTime\\\":1694825311310,\\\"TrainingEndTime\\\":1694825473140,\\\"LastModifiedTime\\\":1694825473794,\\\"SecondaryStatusTransitions\\\":[{\\\"Status\\\":\\\"Starting\\\",\\\"StartTime\\\":1694825240939,\\\"EndTime\\\":1694825311310,\\\"StatusMessage\\\":\\\"Preparing the instances for training\\\"},{\\\"Status\\\":\\\"Downloading\\\",\\\"StartTime\\\":1694825311310,\\\"EndTime\\\":1694825336697,\\\"StatusMessage\\\":\\\"Downloading input data\\\"},{\\\"Status\\\":\\\"Training\\\",\\\"StartTime\\\":1694825336697,\\\"EndTime\\\":1694825462789,\\\"StatusMessage\\\":\\\"Training image download completed. Training in progress.\\\"},{\\\"Status\\\":\\\"Uploading\\\",\\\"StartTime\\\":1694825462789,\\\"EndTime\\\":1694825473140,\\\"StatusMessage\\\":\\\"Uploading generated training model\\\"},{\\\"Status\\\":\\\"Completed\\\",\\\"StartTime\\\":1694825473140,\\\"EndTime\\\":1694825473140,\\\"StatusMessage\\\":\\\"Training job completed\\\"}],\\\"FinalMetricDataList\\\":null,\\\"EnableNetworkIsolation\\\":null,\\\"EnableInterContainerTrafficEncryption\\\":null,\\\"EnableManagedSpotTraining\\\":null,\\\"CheckpointConfig\\\":null,\\\"TrainingTimeInSeconds\\\":null,\\\"BillableTimeInSeconds\\\":null,\\\"DebugHookConfig\\\":{\\\"LocalPath\\\":null,\\\"S3OutputPath\\\":\\\"s3://training-data-sagemaker-tensorflow-mnist/training_output\\\",\\\"HookParameters\\\":null,\\\"CollectionConfigurations\\\":null},\\\"ExperimentConfig\\\":null,\\\"DebugRuleConfigurations\\\":null,\\\"TensorBoardOutputConfig\\\":null,\\\"DebugRuleEvaluationStatuses\\\":null,\\\"UpstreamPlatformConfig\\\":null,\\\"ProfilerConfig\\\":null,\\\"ProfilerRuleConfigurations\\\":null,\\\"ProfilerRuleEvaluationStatuses\\\":null,\\\"ProfilingStatus\\\":null,\\\"Environment\\\":null,\\\"RetryStrategy\\\":null,\\\"LastModifiedBy\\\":null,\\\"CreatedBy\\\":null,\\\"DisableEFA\\\":null,\\\"ProcessingJobConfig\\\":null,\\\"RemoteDebugConfig\\\":null,\\\"ResourceTags\\\":null,\\\"Tags\\\":{\\\"AWS_STEP_FUNCTIONS_EXECUTION_ARN\\\":\\\"arn:aws:states:eu-central-1:401082536487:execution:TrainingWorkflow:13e08cde-2400-4585-97d7-d8ca2c5396fb\\\",\\\"MANAGED_BY_AWS\\\":\\\"STARTED_BY_STEP_FUNCTIONS\\\"}}\", \"outputDetails\": {\"truncated\": false}}}] };\n",
       "\n",
       "    var graph = new sfn.StateMachineExecutionGraph(definition, events, elementId, options);\n",
       "    graph.render();\n",
       "});\n",
       "\n",
       "</script>\n"
      ],
      "text/plain": [
       "<IPython.core.display.HTML object>"
      ]
     },
     "execution_count": 19,
     "metadata": {},
     "output_type": "execute_result"
    }
   ],
   "source": [
    "execution.render_progress()"
   ]
  },
  {
   "cell_type": "markdown",
   "metadata": {},
   "source": [
    "# Clean up"
   ]
  },
  {
   "cell_type": "code",
   "execution_count": null,
   "metadata": {},
   "outputs": [],
   "source": [
    "mnist_workflow.delete()"
   ]
  }
 ],
 "metadata": {
  "kernelspec": {
   "display_name": "MLOPS",
   "language": "python",
   "name": "python3"
  },
  "language_info": {
   "codemirror_mode": {
    "name": "ipython",
    "version": 3
   },
   "file_extension": ".py",
   "mimetype": "text/x-python",
   "name": "python",
   "nbconvert_exporter": "python",
   "pygments_lexer": "ipython3",
   "version": "3.11.5"
  },
  "orig_nbformat": 4
 },
 "nbformat": 4,
 "nbformat_minor": 2
}
